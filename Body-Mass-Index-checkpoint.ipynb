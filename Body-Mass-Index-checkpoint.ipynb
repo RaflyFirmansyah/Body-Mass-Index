{
 "cells": [
  {
   "cell_type": "code",
   "execution_count": 2,
   "metadata": {},
   "outputs": [
    {
     "name": "stdout",
     "output_type": "stream",
     "text": [
      "Masukkan Berat Badan (KG) : 55\n",
      "Masukkan Tinggi Badan (M) : 1.59\n",
      "Berat Badan Ideal\n"
     ]
    }
   ],
   "source": [
    "berat  =float(input(\"Masukkan Berat Badan (KG) : \"))\n",
    "tinggi =float(input(\"Masukkan Tinggi Badan (M) : \"))\n",
    "bmi    = berat/(tinggi**2)\n",
    "if bmi < 18.5:\n",
    "    print(\"Kekurangan Berat Badan\")\n",
    "elif bmi >=18.5 and bmi <=24.9:\n",
    "    print(\"Berat Badan Ideal\")\n",
    "elif  bmi >=25 and bmi<=29.9:\n",
    "    print(\"Kelebihan berat badan\")\n",
    "else:\n",
    "    print(\"obesitas\")"
   ]
  }
 ],
 "metadata": {
  "kernelspec": {
   "display_name": "Python 3",
   "language": "python",
   "name": "python3"
  },
  "language_info": {
   "codemirror_mode": {
    "name": "ipython",
    "version": 3
   },
   "file_extension": ".py",
   "mimetype": "text/x-python",
   "name": "python",
   "nbconvert_exporter": "python",
   "pygments_lexer": "ipython3",
   "version": "3.7.1"
  }
 },
 "nbformat": 4,
 "nbformat_minor": 2
}
